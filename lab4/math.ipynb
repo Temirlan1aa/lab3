{
 "cells": [
  {
   "cell_type": "code",
   "execution_count": null,
   "metadata": {},
   "outputs": [
    {
     "name": "stdout",
     "output_type": "stream",
     "text": [
      "4.0 degrees is equal to 0.06981317007977318 radians\n"
     ]
    }
   ],
   "source": [
    "import math\n",
    "\n",
    "def degrees_to_radians(degrees):\n",
    "    return degrees * (math.pi / 180)\n",
    "\n",
    "\n",
    "degrees = float(input(\"Enter angle in degrees: \"))\n",
    "radians = degrees_to_radians(degrees)\n",
    "\n",
    "print(f\"{degrees} degrees = {radians} radians\")"
   ]
  },
  {
   "cell_type": "code",
   "execution_count": null,
   "metadata": {},
   "outputs": [],
   "source": [
    "def trapezoid_area(base1, base2, height):\n",
    "    return (base1 + base2) * height / 2\n",
    "\n",
    "base1 = float(input(\"length first base: \"))\n",
    "base2 = float(input(\"length second base: \"))\n",
    "height = float(input(\"Enter the height: \"))\n",
    "area = trapezoid_area(base1, base2, height)\n",
    "print(f\"trapezoid area is: {area}\")"
   ]
  },
  {
   "cell_type": "code",
   "execution_count": 3,
   "metadata": {},
   "outputs": [
    {
     "name": "stdout",
     "output_type": "stream",
     "text": [
      "1732\n"
     ]
    }
   ],
   "source": [
    "def area_of_polygon(number_of_slides , lenght_of_slide):\n",
    "    return math.ceil((number_of_slides * lenght_of_slide ** 2) / (4 * math.tan(math.pi / number_of_slides) ))  \n",
    "n = int(input())\n",
    "l = int(input())\n",
    "\n",
    "print(area_of_polygon(n , l))\n"
   ]
  },
  {
   "cell_type": "code",
   "execution_count": null,
   "metadata": {},
   "outputs": [],
   "source": [
    "def area_of_paralleogram(a , b):\n",
    "    return a * b\n",
    "\n",
    "a = int(input())\n",
    "heigh = int(input()) \n",
    "print(area_of_paralleogram( a , heigh))"
   ]
  },
  {
   "cell_type": "code",
   "execution_count": null,
   "metadata": {},
   "outputs": [],
   "source": [
    "def area_of_paralleogram(a , b , degree):\n",
    "    angle_in_radians = math.radians(degree)\n",
    "    return math.ceil(a * b * math.sin(angle_in_radians)) \n",
    "\n",
    "a = int(input())\n",
    "b = int(input())\n",
    "d = int(input())\n",
    "print (area_of_paralleogram(a , b , d))"
   ]
  }
 ],
 "metadata": {
  "kernelspec": {
   "display_name": "Python 3",
   "language": "python",
   "name": "python3"
  },
  "language_info": {
   "codemirror_mode": {
    "name": "ipython",
    "version": 3
   },
   "file_extension": ".py",
   "mimetype": "text/x-python",
   "name": "python",
   "nbconvert_exporter": "python",
   "pygments_lexer": "ipython3",
   "version": "3.11.9"
  }
 },
 "nbformat": 4,
 "nbformat_minor": 2
}
