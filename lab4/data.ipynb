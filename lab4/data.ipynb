{
 "cells": [
  {
   "cell_type": "code",
   "execution_count": null,
   "metadata": {},
   "outputs": [
    {
     "name": "stdout",
     "output_type": "stream",
     "text": [
      "today:   2025- 02 - 22\n",
      "5 day ago  2025 - 02 -17\n"
     ]
    }
   ],
   "source": [
    "from datetime import datetime, timedelta\n",
    "today=datetime.today()\n",
    "last_date=today-timedelta(days=5)\n",
    "print(\"today: \",today.strftime(\" %Y- %m - %d\"))\n",
    "print(\"5 day ago: \",last_date.strftime(\"%Y - %m -%d\"))\n",
    "\n",
    "\n"
   ]
  },
  {
   "cell_type": "code",
   "execution_count": null,
   "metadata": {},
   "outputs": [
    {
     "name": "stdout",
     "output_type": "stream",
     "text": [
      "yesterday:  2025- 02 - 21\n",
      "today:  2025- 02 - 22\n",
      "tomorrow:  2025- 02 - 23\n"
     ]
    }
   ],
   "source": [
    "from datetime import datetime, timedelta\n",
    "\n",
    "yesterday = datetime.now() - timedelta(days=1)\n",
    "print(\"yesterday:\",yesterday.strftime(\" %Y- %m - %d\"))\n",
    "\n",
    "today = datetime.now()\n",
    "print(\"today:\",today.strftime(\" %Y- %m - %d\"))\n",
    "\n",
    "tomorrow = datetime.now() + timedelta(days = 1)\n",
    "print (\"tomorrow:\",tomorrow.strftime(\" %Y- %m - %d\"))"
   ]
  },
  {
   "cell_type": "code",
   "execution_count": null,
   "metadata": {},
   "outputs": [
    {
     "name": "stdout",
     "output_type": "stream",
     "text": [
      "now: 2025-02-22 12:54:43.637821\n",
      "now without microsecs : 2025-02-22 12:54:43\n"
     ]
    }
   ],
   "source": [
    "from datetime import datetime, timedelta\n",
    "now = datetime.now()\n",
    "\n",
    "now_without_microsecs = now.replace(microsecond= 0)\n",
    "\n",
    "print(\"now:\" ,now)\n",
    "print(\"now without microsecs :\", now_without_microsecs)"
   ]
  },
  {
   "cell_type": "code",
   "execution_count": null,
   "metadata": {},
   "outputs": [
    {
     "name": "stdout",
     "output_type": "stream",
     "text": [
      "the diff in seconds is 600.0\n"
     ]
    }
   ],
   "source": [
    "date1 = input(\"Enter the date in YYYY-MM-DD HH:MM:SS\")\n",
    "date2 = input(\"Enter the date in YYYY-MM-DD HH:MM:SS\")\n",
    "\n",
    "date_format = \"%Y-%m-%d %H:%M:%S\"\n",
    "date1 = datetime.strptime(date1 , date_format)\n",
    "date2 = datetime.strptime(date2 , date_format)\n",
    "\n",
    "time_diff= date1 - date2 \n",
    "\n",
    "seconds_diff = time_diff.total_seconds()\n",
    "\n",
    "print(f\"the diff in seconds is {seconds_diff}\")"
   ]
  },
  {
   "cell_type": "code",
   "execution_count": null,
   "metadata": {},
   "outputs": [],
   "source": []
  }
 ],
 "metadata": {
  "kernelspec": {
   "display_name": "Python 3",
   "language": "python",
   "name": "python3"
  },
  "language_info": {
   "codemirror_mode": {
    "name": "ipython",
    "version": 3
   },
   "file_extension": ".py",
   "mimetype": "text/x-python",
   "name": "python",
   "nbconvert_exporter": "python",
   "pygments_lexer": "ipython3",
   "version": "3.11.9"
  }
 },
 "nbformat": 4,
 "nbformat_minor": 2
}
