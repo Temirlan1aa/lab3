{
 "cells": [
  {
   "cell_type": "code",
   "execution_count": null,
   "metadata": {},
   "outputs": [
    {
     "name": "stdout",
     "output_type": "stream",
     "text": [
      "1\n",
      "4\n",
      "9\n",
      "16\n",
      "25\n",
      "36\n",
      "49\n",
      "64\n",
      "81\n",
      "100\n"
     ]
    }
   ],
   "source": [
    "def all(N):\n",
    "    for num in range(1,N+1):\n",
    "        yield num**2\n",
    "\n",
    "N=10\n",
    "for sqrt in all(N):\n",
    "    print(sqrt)"
   ]
  },
  {
   "cell_type": "code",
   "execution_count": 3,
   "metadata": {},
   "outputs": [
    {
     "name": "stdout",
     "output_type": "stream",
     "text": [
      "0,2,4,6,8,10,12,14,16,18,20,22,24,26,28,30,32,34,36,38,40,42,44,46,48,50\n"
     ]
    }
   ],
   "source": [
    "def even(n):\n",
    "    for i in range(0,n+1,2):\n",
    "        yield str(i)\n",
    "\n",
    "n=int(input(\"napishi chto to: \"))\n",
    "r=\",\".join(even(n))\n",
    "print(r)"
   ]
  },
  {
   "cell_type": "code",
   "execution_count": 6,
   "metadata": {},
   "outputs": [
    {
     "name": "stdout",
     "output_type": "stream",
     "text": [
      "0  \n",
      "12  \n",
      "24  \n",
      "36  \n",
      "48  \n"
     ]
    }
   ],
   "source": [
    "def q3_q4(n):\n",
    "    for i in range(0,n+1):\n",
    "        if i%3==0 and i%4==0:\n",
    "            yield i\n",
    "\n",
    "n=int(input())\n",
    "for num in q3_q4(n):\n",
    "    print (num,\" \")\n",
    "            \n",
    "        "
   ]
  },
  {
   "cell_type": "code",
   "execution_count": 4,
   "metadata": {},
   "outputs": [
    {
     "name": "stdout",
     "output_type": "stream",
     "text": [
      "25\n",
      "36\n",
      "49\n",
      "64\n"
     ]
    }
   ],
   "source": [
    "def squares(a):\n",
    "    for i in range(a,b+1):\n",
    "        yield i**2\n",
    "\n",
    "a=int(input())\n",
    "b=int(input())\n",
    "for i in squares(a):\n",
    "    \n",
    "    print(i)"
   ]
  },
  {
   "cell_type": "code",
   "execution_count": 17,
   "metadata": {},
   "outputs": [
    {
     "name": "stdout",
     "output_type": "stream",
     "text": [
      "8\n",
      "7\n",
      "6\n",
      "5\n",
      "4\n",
      "3\n",
      "2\n",
      "1\n",
      "0\n"
     ]
    }
   ],
   "source": [
    "def minus(n):\n",
    "    for i in range(n,-1,-1):\n",
    "        yield i\n",
    "\n",
    "n=int(input())\n",
    "for i in minus(n):\n",
    "    \n",
    "    print(i)"
   ]
  }
 ],
 "metadata": {
  "kernelspec": {
   "display_name": "Python 3",
   "language": "python",
   "name": "python3"
  },
  "language_info": {
   "codemirror_mode": {
    "name": "ipython",
    "version": 3
   },
   "file_extension": ".py",
   "mimetype": "text/x-python",
   "name": "python",
   "nbconvert_exporter": "python",
   "pygments_lexer": "ipython3",
   "version": "3.11.9"
  }
 },
 "nbformat": 4,
 "nbformat_minor": 2
}
